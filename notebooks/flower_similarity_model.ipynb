{
 "cells": [
  {
   "cell_type": "markdown",
   "id": "b2b2d406",
   "metadata": {},
   "source": [
    "В этом ноутбуке разрабатывается система поиска похожих изображений растений на основе входного изображения.\n",
    "\n",
    "## Содержание\n",
    "1. Настройка окружения\n",
    "2. Загрузка и подготовка данных\n",
    "3. Модель для извлечения признаков\n",
    "4. Создание векторов признаков для библиотеки изображений\n",
    "5. Реализация функции поиска похожих изображений\n",
    "6. Оценка модели\n",
    "7. Визуализация результатов (для 5 случайных изображений)\n",
    "8. Сохранение модели для использования в API"
   ]
  },
  {
   "cell_type": "code",
   "execution_count": 1,
   "id": "8a073e2a",
   "metadata": {},
   "outputs": [],
   "source": [
    "import os\n",
    "import random\n",
    "import numpy as np\n",
    "import pandas as pd\n",
    "import matplotlib.pyplot as plt\n",
    "import seaborn as sns\n",
    "from PIL import Image\n",
    "from tqdm.notebook import tqdm\n",
    "import torch\n",
    "import torchvision\n",
    "from torchvision import transforms, models\n",
    "from torch.utils.data import Dataset, DataLoader\n",
    "from sklearn.metrics.pairwise import cosine_similarity\n",
    "from sklearn.model_selection import train_test_split"
   ]
  },
  {
   "cell_type": "code",
   "execution_count": 3,
   "id": "71d86c01",
   "metadata": {},
   "outputs": [],
   "source": [
    "#Фиксирую seed для воспроизводимости\n",
    "SEED = 42\n",
    "random.seed(SEED)\n",
    "np.random.seed(SEED)\n",
    "torch.manual_seed(SEED)\n",
    "if torch.cuda.is_available():\n",
    "    torch.cuda.manual_seed(SEED)\n",
    "    torch.backends.cudnn.deterministic = True\n",
    "    torch.backends.cudnn.benchmark = False"
   ]
  },
  {
   "cell_type": "code",
   "execution_count": 3,
   "id": "2d24a78f",
   "metadata": {},
   "outputs": [
    {
     "name": "stdout",
     "output_type": "stream",
     "text": [
      "Using device: cuda\n"
     ]
    }
   ],
   "source": [
    "#Проверка доступности GPU, в обратном случае использую CPU\n",
    "device = torch.device(\"cuda\" if torch.cuda.is_available() else \"cpu\")\n",
    "print(f\"Using device: {device}\")"
   ]
  }
 ],
 "metadata": {
  "kernelspec": {
   "display_name": "venv",
   "language": "python",
   "name": "python3"
  },
  "language_info": {
   "codemirror_mode": {
    "name": "ipython",
    "version": 3
   },
   "file_extension": ".py",
   "mimetype": "text/x-python",
   "name": "python",
   "nbconvert_exporter": "python",
   "pygments_lexer": "ipython3",
   "version": "3.10.11"
  }
 },
 "nbformat": 4,
 "nbformat_minor": 5
}
